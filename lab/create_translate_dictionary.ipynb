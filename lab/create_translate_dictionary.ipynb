{
 "cells": [
  {
   "cell_type": "code",
   "execution_count": 2,
   "metadata": {},
   "outputs": [],
   "source": [
    "import pandas as pd \n",
    "import json"
   ]
  },
  {
   "cell_type": "code",
   "execution_count": 3,
   "metadata": {},
   "outputs": [
    {
     "data": {
      "text/html": [
       "<div>\n",
       "<style scoped>\n",
       "    .dataframe tbody tr th:only-of-type {\n",
       "        vertical-align: middle;\n",
       "    }\n",
       "\n",
       "    .dataframe tbody tr th {\n",
       "        vertical-align: top;\n",
       "    }\n",
       "\n",
       "    .dataframe thead th {\n",
       "        text-align: right;\n",
       "    }\n",
       "</style>\n",
       "<table border=\"1\" class=\"dataframe\">\n",
       "  <thead>\n",
       "    <tr style=\"text-align: right;\">\n",
       "      <th></th>\n",
       "      <th>ImageName</th>\n",
       "      <th>VietnameseName</th>\n",
       "      <th>EnglishName</th>\n",
       "      <th>Price</th>\n",
       "    </tr>\n",
       "  </thead>\n",
       "  <tbody>\n",
       "    <tr>\n",
       "      <th>0</th>\n",
       "      <td>001.jpeg</td>\n",
       "      <td>COMBO 1</td>\n",
       "      <td>COMBO 1</td>\n",
       "      <td>169000</td>\n",
       "    </tr>\n",
       "    <tr>\n",
       "      <th>1</th>\n",
       "      <td>001.jpeg</td>\n",
       "      <td>COMBO 2</td>\n",
       "      <td>COMBO 2</td>\n",
       "      <td>169000</td>\n",
       "    </tr>\n",
       "    <tr>\n",
       "      <th>2</th>\n",
       "      <td>001.jpeg</td>\n",
       "      <td>COMBO 3</td>\n",
       "      <td>COMBO 3</td>\n",
       "      <td>169000</td>\n",
       "    </tr>\n",
       "    <tr>\n",
       "      <th>3</th>\n",
       "      <td>001.jpeg</td>\n",
       "      <td>RƯỢU SOJU</td>\n",
       "      <td>SOJU</td>\n",
       "      <td>NOT GIVEN</td>\n",
       "    </tr>\n",
       "    <tr>\n",
       "      <th>4</th>\n",
       "      <td>001.jpeg</td>\n",
       "      <td>RƯỢU VODKA</td>\n",
       "      <td>VODKA</td>\n",
       "      <td>NOT GIVEN</td>\n",
       "    </tr>\n",
       "  </tbody>\n",
       "</table>\n",
       "</div>"
      ],
      "text/plain": [
       "  ImageName VietnameseName EnglishName      Price\n",
       "0  001.jpeg        COMBO 1     COMBO 1     169000\n",
       "1  001.jpeg        COMBO 2     COMBO 2     169000\n",
       "2  001.jpeg        COMBO 3     COMBO 3     169000\n",
       "3  001.jpeg      RƯỢU SOJU        SOJU  NOT GIVEN\n",
       "4  001.jpeg     RƯỢU VODKA       VODKA  NOT GIVEN"
      ]
     },
     "execution_count": 3,
     "metadata": {},
     "output_type": "execute_result"
    }
   ],
   "source": [
    "df = pd.read_excel('../data_sample/Data_Labeling.xlsx')\n",
    "df.head()"
   ]
  },
  {
   "cell_type": "code",
   "execution_count": 15,
   "metadata": {},
   "outputs": [
    {
     "data": {
      "text/plain": [
       "(15211, 4)"
      ]
     },
     "execution_count": 15,
     "metadata": {},
     "output_type": "execute_result"
    }
   ],
   "source": [
    "df.shape"
   ]
  },
  {
   "cell_type": "code",
   "execution_count": 16,
   "metadata": {},
   "outputs": [
    {
     "data": {
      "text/plain": [
       "(10163, 4)"
      ]
     },
     "execution_count": 16,
     "metadata": {},
     "output_type": "execute_result"
    }
   ],
   "source": [
    "df.drop_duplicates(['VietnameseName'], inplace=True)\n",
    "\n",
    "df.shape\n"
   ]
  },
  {
   "cell_type": "code",
   "execution_count": 17,
   "metadata": {},
   "outputs": [],
   "source": [
    "dictionary_food = {}\n",
    "\n",
    "for vi, en in zip(df['VietnameseName'], df['EnglishName']):\n",
    "    dictionary_food[vi] = en\n",
    "    "
   ]
  },
  {
   "cell_type": "code",
   "execution_count": 18,
   "metadata": {},
   "outputs": [
    {
     "data": {
      "text/plain": [
       "[('COMBO 1', 'COMBO 1'),\n",
       " ('COMBO 2', 'COMBO 2'),\n",
       " ('COMBO 3', 'COMBO 3'),\n",
       " ('RƯỢU SOJU', 'SOJU'),\n",
       " ('RƯỢU VODKA', 'VODKA'),\n",
       " ('TIGER LON', 'TIGER CAN'),\n",
       " ('TIGER CHAI', 'TIGER BOTTLE'),\n",
       " ('TIGER BẠC CHAI', 'CRYSTAL TIGER CAN'),\n",
       " ('TIGER BẠC LON', 'CRYSTAL TIGER BOTTLE'),\n",
       " ('COCA', 'COCA'),\n",
       " ('SPRITE', 'SPRITE'),\n",
       " ('SUỐI', 'WATER')]"
      ]
     },
     "execution_count": 18,
     "metadata": {},
     "output_type": "execute_result"
    }
   ],
   "source": [
    "list(dictionary_food.items())[:12]"
   ]
  },
  {
   "cell_type": "code",
   "execution_count": 19,
   "metadata": {},
   "outputs": [],
   "source": [
    "with open('dictionary_food_translate.json', 'w', encoding='utf-8') as f:\n",
    "    json.dump(dictionary_food, f)"
   ]
  },
  {
   "cell_type": "code",
   "execution_count": 20,
   "metadata": {},
   "outputs": [
    {
     "data": {
      "text/plain": [
       "[('COMBO 1', 'COMBO 1'),\n",
       " ('COMBO 2', 'COMBO 2'),\n",
       " ('COMBO 3', 'COMBO 3'),\n",
       " ('RƯỢU SOJU', 'SOJU'),\n",
       " ('RƯỢU VODKA', 'VODKA'),\n",
       " ('TIGER LON', 'TIGER CAN'),\n",
       " ('TIGER CHAI', 'TIGER BOTTLE'),\n",
       " ('TIGER BẠC CHAI', 'CRYSTAL TIGER CAN'),\n",
       " ('TIGER BẠC LON', 'CRYSTAL TIGER BOTTLE'),\n",
       " ('COCA', 'COCA'),\n",
       " ('SPRITE', 'SPRITE'),\n",
       " ('SUỐI', 'WATER')]"
      ]
     },
     "execution_count": 20,
     "metadata": {},
     "output_type": "execute_result"
    }
   ],
   "source": [
    "with open('dictionary_food_translate.json', 'r', encoding='utf-8') as f:\n",
    "    test = json.load(f)\n",
    "    \n",
    "list(test.items())[:12]"
   ]
  },
  {
   "cell_type": "code",
   "execution_count": null,
   "metadata": {},
   "outputs": [],
   "source": []
  }
 ],
 "metadata": {
  "kernelspec": {
   "display_name": "Python 3.8.13 ('smart_menu')",
   "language": "python",
   "name": "python3"
  },
  "language_info": {
   "codemirror_mode": {
    "name": "ipython",
    "version": 3
   },
   "file_extension": ".py",
   "mimetype": "text/x-python",
   "name": "python",
   "nbconvert_exporter": "python",
   "pygments_lexer": "ipython3",
   "version": "3.8.13"
  },
  "orig_nbformat": 4,
  "vscode": {
   "interpreter": {
    "hash": "2cca91d1f76e5abfdd07e2c17342a07bd112c752dc295866857041e010f5f929"
   }
  }
 },
 "nbformat": 4,
 "nbformat_minor": 2
}
